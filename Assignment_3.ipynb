{
 "cells": [
  {
   "cell_type": "markdown",
   "id": "6f7eb777-d85d-4374-9964-21344e3ad4e9",
   "metadata": {},
   "source": [
    "# **About the Data**\n",
    "## Nike Global Sales Data Analysis (2024)\n",
    "https://www.kaggle.com/datasets/ayushcx/nike-global-sales-data-2024\n",
    "The dataset of Nike's global sales for the year 2024, spanning multiple regions, product categories, and price tiers.\n",
    "\n",
    "## This dataset contains detailed monthly sales information, including:\n",
    "Regions: Greater China, Japan, South Korea, India, Southeast Asia, America, Europe.  \n",
    "Categories: Footwear, Apparel, and Equipment, with various sub-categories and product lines.  \n",
    "Metrics: Units sold, revenue (USD), retail prices, and online sales percentages.\n",
    "\n",
    "## Objectives: \n",
    "- Understand the structure of the dataset.\n",
    "- Exploratory Data Analysis (EDA) to extract insights and trends (with graph)\n",
    "\n"
   ]
  },
  {
   "cell_type": "markdown",
   "id": "bdb920b8-3f65-415d-b397-7e86cab96a01",
   "metadata": {},
   "source": [
    "# **Understand the data**  \n",
    "\n",
    "To understand the dataset, we break down the analysis into the following key aspects:\n",
    "\n",
    "1. Total Rows and Column\n",
    "2. Check Data Type of Each Column\n",
    "3. Summary of Numeric and Categorical Columns\n",
    "4. Null Data Information\n",
    "5. Display the First 10 Rows of the Dataset"
   ]
  },
  {
   "cell_type": "code",
   "execution_count": 53,
   "id": "dcf08f78-bc4a-4479-990d-9f92cce49898",
   "metadata": {},
   "outputs": [],
   "source": [
    "##import liabraries and package\n",
    "\n",
    "import pandas as pd\n",
    "\n",
    "import matplotlib.pyplot as plt\n",
    "import seaborn as sns\n"
   ]
  },
  {
   "cell_type": "code",
   "execution_count": 54,
   "id": "82475da8-7794-43f0-bca9-8c464643895a",
   "metadata": {},
   "outputs": [],
   "source": [
    "file_path = 'nike_sales_2024.csv'\n",
    "sales = pd.read_csv(file_path)"
   ]
  },
  {
   "cell_type": "markdown",
   "id": "bb082db6-ff61-4c40-bfb7-4d57b77a6087",
   "metadata": {},
   "source": [
    "## **1. Total Rows and Columns**  \n",
    "- The dataset contains **1,000 rows** and **10 columns**.  \n",
    "- Each row represents a **sales record** for a Nike product."
   ]
  },
  {
   "cell_type": "code",
   "execution_count": 55,
   "id": "bfb9c7ce-9a5f-4910-b273-3a4e0506f975",
   "metadata": {},
   "outputs": [
    {
     "name": "stdout",
     "output_type": "stream",
     "text": [
      "1. Total rows and columns\n",
      "there are  1000 rows\n",
      "there are  10 columns\n"
     ]
    }
   ],
   "source": [
    "## Total columns and rows\n",
    "\n",
    "print(\"1. Total rows and columns\")\n",
    "print(\"there are \", sales.shape[0], \"rows\")\n",
    "print(\"there are \", sales.shape[1], \"columns\")"
   ]
  },
  {
   "cell_type": "markdown",
   "id": "98f0ece2-f0f2-4ad1-a828-e7078919302e",
   "metadata": {},
   "source": [
    "## **2. Check Data Type of Each Column**  \n",
    "- The dataset consists of **6 categorical** and **4 numerical** columns.  \n",
    "- Categorical Columns: `Month`, `Region`, `Main_Category`, `Sub_Category`, `Product_Line`, `Price_Tier`  \n",
    "- Numerical Columns: `Units_Sold`, `Revenue_USD`, `Online_Sales_Percentage`, `Retail_Price`  "
   ]
  },
  {
   "cell_type": "code",
   "execution_count": 56,
   "id": "58e3f231-67df-42ef-9c72-aa70cfe8435b",
   "metadata": {},
   "outputs": [
    {
     "name": "stdout",
     "output_type": "stream",
     "text": [
      "2. Data Types of Each Column:\n",
      "Month                      object\n",
      "Region                     object\n",
      "Main_Category              object\n",
      "Sub_Category               object\n",
      "Product_Line               object\n",
      "Price_Tier                 object\n",
      "Units_Sold                  int64\n",
      "Revenue_USD                 int64\n",
      "Online_Sales_Percentage     int64\n",
      "Retail_Price                int64\n",
      "dtype: object\n"
     ]
    }
   ],
   "source": [
    "# Display data types of each column\n",
    "print(\"2. Data Types of Each Column:\")\n",
    "print(sales.dtypes)"
   ]
  },
  {
   "cell_type": "markdown",
   "id": "bfc2a2be-bc50-4b83-a9f8-36841415a47f",
   "metadata": {},
   "source": [
    "## **3. Summary of Numeric and Categorical Columns** \n",
    "\n",
    "#### **Categorical Columns:**\n",
    "- **Month:** 12 unique values (e.g., January, February ... December). \n",
    "  - The most frequent month is **December** (96 occurrences).  \n",
    "- **Region:** 7 unique regions.  \n",
    "  - **Greater China** has the highest sales records (161 occurrences).  \n",
    "- **Main Category:** 3 unique categories.  \n",
    "  - **Equipment** appears the most (352 occurrences).  \n",
    "- **Sub Category:** 11 unique values.  \n",
    "  - **Outerwear** is the most frequent (125 occurrences).  \n",
    "- **Product Line:** 24 unique product lines.  \n",
    "  - **Windrunner** appears most frequently (65 occurrences).  \n",
    "- **Price Tier:** 3 unique values.  \n",
    "  - The majority of products fall under the **Budget** category (348 occurrences).  \n",
    "\n",
    "#### **Numerical Columns:**\n",
    "- **Units Sold:**\n",
    "  - **Mean:** 28,498.95 units  \n",
    "  - **Min:** 5,028 units  \n",
    "  - **Max:** 49,992 units  \n",
    "\n",
    "- **Revenue:**\n",
    "  - **Mean:** 5,039,576.41  \n",
    "  - **Min:** 287,400  \n",
    "  - **Max:** 14,864,700\n",
    "\n",
    "- **Online Sales Percentage:**\n",
    "  - **Mean:** 70.04%  \n",
    "  - **Min:** 60%  \n",
    "  - **Max:** 90%  \n",
    "\n",
    "- **Retail Price:**\n",
    "  - **Mean:** \\$176.32  \n",
    "  - **Min:** \\$50.00  \n",
    "  - **Max:** \\$300.00  \n"
   ]
  },
  {
   "cell_type": "code",
   "execution_count": 57,
   "id": "e60f67ed-ea99-4205-872e-ffe86db8f957",
   "metadata": {},
   "outputs": [
    {
     "name": "stdout",
     "output_type": "stream",
     "text": [
      "3. Summary Statistics:\n"
     ]
    },
    {
     "data": {
      "text/html": [
       "<div>\n",
       "<style scoped>\n",
       "    .dataframe tbody tr th:only-of-type {\n",
       "        vertical-align: middle;\n",
       "    }\n",
       "\n",
       "    .dataframe tbody tr th {\n",
       "        vertical-align: top;\n",
       "    }\n",
       "\n",
       "    .dataframe thead th {\n",
       "        text-align: right;\n",
       "    }\n",
       "</style>\n",
       "<table border=\"1\" class=\"dataframe\">\n",
       "  <thead>\n",
       "    <tr style=\"text-align: right;\">\n",
       "      <th></th>\n",
       "      <th>Month</th>\n",
       "      <th>Region</th>\n",
       "      <th>Main_Category</th>\n",
       "      <th>Sub_Category</th>\n",
       "      <th>Product_Line</th>\n",
       "      <th>Price_Tier</th>\n",
       "      <th>Units_Sold</th>\n",
       "      <th>Revenue_USD</th>\n",
       "      <th>Online_Sales_Percentage</th>\n",
       "      <th>Retail_Price</th>\n",
       "    </tr>\n",
       "  </thead>\n",
       "  <tbody>\n",
       "    <tr>\n",
       "      <th>count</th>\n",
       "      <td>1000</td>\n",
       "      <td>1000</td>\n",
       "      <td>1000</td>\n",
       "      <td>1000</td>\n",
       "      <td>1000</td>\n",
       "      <td>1000</td>\n",
       "      <td>1000.00</td>\n",
       "      <td>1000.00</td>\n",
       "      <td>1000.00</td>\n",
       "      <td>1000.00</td>\n",
       "    </tr>\n",
       "    <tr>\n",
       "      <th>unique</th>\n",
       "      <td>12</td>\n",
       "      <td>7</td>\n",
       "      <td>3</td>\n",
       "      <td>11</td>\n",
       "      <td>24</td>\n",
       "      <td>3</td>\n",
       "      <td>NaN</td>\n",
       "      <td>NaN</td>\n",
       "      <td>NaN</td>\n",
       "      <td>NaN</td>\n",
       "    </tr>\n",
       "    <tr>\n",
       "      <th>top</th>\n",
       "      <td>December</td>\n",
       "      <td>Greater China</td>\n",
       "      <td>Equipment</td>\n",
       "      <td>Outerwear</td>\n",
       "      <td>Windrunner</td>\n",
       "      <td>Budget</td>\n",
       "      <td>NaN</td>\n",
       "      <td>NaN</td>\n",
       "      <td>NaN</td>\n",
       "      <td>NaN</td>\n",
       "    </tr>\n",
       "    <tr>\n",
       "      <th>freq</th>\n",
       "      <td>96</td>\n",
       "      <td>161</td>\n",
       "      <td>352</td>\n",
       "      <td>125</td>\n",
       "      <td>65</td>\n",
       "      <td>348</td>\n",
       "      <td>NaN</td>\n",
       "      <td>NaN</td>\n",
       "      <td>NaN</td>\n",
       "      <td>NaN</td>\n",
       "    </tr>\n",
       "    <tr>\n",
       "      <th>mean</th>\n",
       "      <td>NaN</td>\n",
       "      <td>NaN</td>\n",
       "      <td>NaN</td>\n",
       "      <td>NaN</td>\n",
       "      <td>NaN</td>\n",
       "      <td>NaN</td>\n",
       "      <td>28498.95</td>\n",
       "      <td>5039576.41</td>\n",
       "      <td>70.04</td>\n",
       "      <td>176.32</td>\n",
       "    </tr>\n",
       "    <tr>\n",
       "      <th>std</th>\n",
       "      <td>NaN</td>\n",
       "      <td>NaN</td>\n",
       "      <td>NaN</td>\n",
       "      <td>NaN</td>\n",
       "      <td>NaN</td>\n",
       "      <td>NaN</td>\n",
       "      <td>12926.50</td>\n",
       "      <td>3267216.81</td>\n",
       "      <td>11.75</td>\n",
       "      <td>75.26</td>\n",
       "    </tr>\n",
       "    <tr>\n",
       "      <th>min</th>\n",
       "      <td>NaN</td>\n",
       "      <td>NaN</td>\n",
       "      <td>NaN</td>\n",
       "      <td>NaN</td>\n",
       "      <td>NaN</td>\n",
       "      <td>NaN</td>\n",
       "      <td>5028.00</td>\n",
       "      <td>287400.00</td>\n",
       "      <td>50.00</td>\n",
       "      <td>50.00</td>\n",
       "    </tr>\n",
       "    <tr>\n",
       "      <th>25%</th>\n",
       "      <td>NaN</td>\n",
       "      <td>NaN</td>\n",
       "      <td>NaN</td>\n",
       "      <td>NaN</td>\n",
       "      <td>NaN</td>\n",
       "      <td>NaN</td>\n",
       "      <td>17554.25</td>\n",
       "      <td>2344675.00</td>\n",
       "      <td>60.00</td>\n",
       "      <td>110.00</td>\n",
       "    </tr>\n",
       "    <tr>\n",
       "      <th>50%</th>\n",
       "      <td>NaN</td>\n",
       "      <td>NaN</td>\n",
       "      <td>NaN</td>\n",
       "      <td>NaN</td>\n",
       "      <td>NaN</td>\n",
       "      <td>NaN</td>\n",
       "      <td>28685.00</td>\n",
       "      <td>4328020.00</td>\n",
       "      <td>71.00</td>\n",
       "      <td>180.00</td>\n",
       "    </tr>\n",
       "    <tr>\n",
       "      <th>75%</th>\n",
       "      <td>NaN</td>\n",
       "      <td>NaN</td>\n",
       "      <td>NaN</td>\n",
       "      <td>NaN</td>\n",
       "      <td>NaN</td>\n",
       "      <td>NaN</td>\n",
       "      <td>40026.00</td>\n",
       "      <td>7264942.50</td>\n",
       "      <td>80.00</td>\n",
       "      <td>240.00</td>\n",
       "    </tr>\n",
       "    <tr>\n",
       "      <th>max</th>\n",
       "      <td>NaN</td>\n",
       "      <td>NaN</td>\n",
       "      <td>NaN</td>\n",
       "      <td>NaN</td>\n",
       "      <td>NaN</td>\n",
       "      <td>NaN</td>\n",
       "      <td>49992.00</td>\n",
       "      <td>14864700.00</td>\n",
       "      <td>90.00</td>\n",
       "      <td>300.00</td>\n",
       "    </tr>\n",
       "  </tbody>\n",
       "</table>\n",
       "</div>"
      ],
      "text/plain": [
       "           Month         Region Main_Category Sub_Category Product_Line  \\\n",
       "count       1000           1000          1000         1000         1000   \n",
       "unique        12              7             3           11           24   \n",
       "top     December  Greater China     Equipment    Outerwear   Windrunner   \n",
       "freq          96            161           352          125           65   \n",
       "mean         NaN            NaN           NaN          NaN          NaN   \n",
       "std          NaN            NaN           NaN          NaN          NaN   \n",
       "min          NaN            NaN           NaN          NaN          NaN   \n",
       "25%          NaN            NaN           NaN          NaN          NaN   \n",
       "50%          NaN            NaN           NaN          NaN          NaN   \n",
       "75%          NaN            NaN           NaN          NaN          NaN   \n",
       "max          NaN            NaN           NaN          NaN          NaN   \n",
       "\n",
       "       Price_Tier  Units_Sold  Revenue_USD  Online_Sales_Percentage  \\\n",
       "count        1000     1000.00      1000.00                  1000.00   \n",
       "unique          3         NaN          NaN                      NaN   \n",
       "top        Budget         NaN          NaN                      NaN   \n",
       "freq          348         NaN          NaN                      NaN   \n",
       "mean          NaN    28498.95   5039576.41                    70.04   \n",
       "std           NaN    12926.50   3267216.81                    11.75   \n",
       "min           NaN     5028.00    287400.00                    50.00   \n",
       "25%           NaN    17554.25   2344675.00                    60.00   \n",
       "50%           NaN    28685.00   4328020.00                    71.00   \n",
       "75%           NaN    40026.00   7264942.50                    80.00   \n",
       "max           NaN    49992.00  14864700.00                    90.00   \n",
       "\n",
       "        Retail_Price  \n",
       "count        1000.00  \n",
       "unique           NaN  \n",
       "top              NaN  \n",
       "freq             NaN  \n",
       "mean          176.32  \n",
       "std            75.26  \n",
       "min            50.00  \n",
       "25%           110.00  \n",
       "50%           180.00  \n",
       "75%           240.00  \n",
       "max           300.00  "
      ]
     },
     "execution_count": 57,
     "metadata": {},
     "output_type": "execute_result"
    }
   ],
   "source": [
    "## Display summary statistics for numeric and categorical columns\n",
    "\n",
    "print(\"3. Summary Statistics:\")\n",
    "sales.describe(include =\"all\").round(2)"
   ]
  },
  {
   "cell_type": "markdown",
   "id": "7e4869b7-d622-4527-9d30-7e6d3cb6f16e",
   "metadata": {},
   "source": [
    "## **4. Null Data Information**  \n",
    "- There is **no missing values** in the dataset.  \n"
   ]
  },
  {
   "cell_type": "code",
   "execution_count": 58,
   "id": "c649df7a-77b9-4fa4-851d-cf43dcbd7cfe",
   "metadata": {},
   "outputs": [
    {
     "name": "stdout",
     "output_type": "stream",
     "text": [
      "4. Print the summary about the Null Data information \n"
     ]
    },
    {
     "data": {
      "text/plain": [
       "Month                      0\n",
       "Region                     0\n",
       "Main_Category              0\n",
       "Sub_Category               0\n",
       "Product_Line               0\n",
       "Price_Tier                 0\n",
       "Units_Sold                 0\n",
       "Revenue_USD                0\n",
       "Online_Sales_Percentage    0\n",
       "Retail_Price               0\n",
       "dtype: int64"
      ]
     },
     "execution_count": 58,
     "metadata": {},
     "output_type": "execute_result"
    }
   ],
   "source": [
    "## Print the summary of missing/null data\n",
    "\n",
    "print(\"4. Print the summary about the Null Data information \")\n",
    "sales.isna().sum()"
   ]
  },
  {
   "cell_type": "markdown",
   "id": "b0f260ec-151a-44d3-9ce0-45b21792651e",
   "metadata": {},
   "source": [
    "## **5. Display the First 10 Rows of the Dataset**  \n",
    "(the first 10 rows of the dataset is shown as below:)"
   ]
  },
  {
   "cell_type": "code",
   "execution_count": 59,
   "id": "0fa8eac0-bc35-480d-81f5-114ec58e6133",
   "metadata": {},
   "outputs": [
    {
     "name": "stdout",
     "output_type": "stream",
     "text": [
      "5. Display first 10th records\n"
     ]
    },
    {
     "data": {
      "text/html": [
       "<div>\n",
       "<style scoped>\n",
       "    .dataframe tbody tr th:only-of-type {\n",
       "        vertical-align: middle;\n",
       "    }\n",
       "\n",
       "    .dataframe tbody tr th {\n",
       "        vertical-align: top;\n",
       "    }\n",
       "\n",
       "    .dataframe thead th {\n",
       "        text-align: right;\n",
       "    }\n",
       "</style>\n",
       "<table border=\"1\" class=\"dataframe\">\n",
       "  <thead>\n",
       "    <tr style=\"text-align: right;\">\n",
       "      <th></th>\n",
       "      <th>Month</th>\n",
       "      <th>Region</th>\n",
       "      <th>Main_Category</th>\n",
       "      <th>Sub_Category</th>\n",
       "      <th>Product_Line</th>\n",
       "      <th>Price_Tier</th>\n",
       "      <th>Units_Sold</th>\n",
       "      <th>Revenue_USD</th>\n",
       "      <th>Online_Sales_Percentage</th>\n",
       "      <th>Retail_Price</th>\n",
       "    </tr>\n",
       "  </thead>\n",
       "  <tbody>\n",
       "    <tr>\n",
       "      <th>0</th>\n",
       "      <td>November</td>\n",
       "      <td>India</td>\n",
       "      <td>Equipment</td>\n",
       "      <td>Bags</td>\n",
       "      <td>Gym Sack</td>\n",
       "      <td>Budget</td>\n",
       "      <td>48356</td>\n",
       "      <td>14506800</td>\n",
       "      <td>73</td>\n",
       "      <td>300</td>\n",
       "    </tr>\n",
       "    <tr>\n",
       "      <th>1</th>\n",
       "      <td>January</td>\n",
       "      <td>India</td>\n",
       "      <td>Equipment</td>\n",
       "      <td>Accessories</td>\n",
       "      <td>Hats</td>\n",
       "      <td>Budget</td>\n",
       "      <td>9842</td>\n",
       "      <td>2066820</td>\n",
       "      <td>50</td>\n",
       "      <td>210</td>\n",
       "    </tr>\n",
       "    <tr>\n",
       "      <th>2</th>\n",
       "      <td>October</td>\n",
       "      <td>India</td>\n",
       "      <td>Apparel</td>\n",
       "      <td>Tops</td>\n",
       "      <td>Tech Fleece</td>\n",
       "      <td>Mid-Range</td>\n",
       "      <td>25079</td>\n",
       "      <td>1755530</td>\n",
       "      <td>90</td>\n",
       "      <td>70</td>\n",
       "    </tr>\n",
       "    <tr>\n",
       "      <th>3</th>\n",
       "      <td>December</td>\n",
       "      <td>Greater China</td>\n",
       "      <td>Footwear</td>\n",
       "      <td>Cricket</td>\n",
       "      <td>Vapor Cricket</td>\n",
       "      <td>Premium</td>\n",
       "      <td>41404</td>\n",
       "      <td>8694840</td>\n",
       "      <td>58</td>\n",
       "      <td>210</td>\n",
       "    </tr>\n",
       "    <tr>\n",
       "      <th>4</th>\n",
       "      <td>May</td>\n",
       "      <td>Greater China</td>\n",
       "      <td>Equipment</td>\n",
       "      <td>Socks</td>\n",
       "      <td>Performance Socks</td>\n",
       "      <td>Premium</td>\n",
       "      <td>33569</td>\n",
       "      <td>5371040</td>\n",
       "      <td>53</td>\n",
       "      <td>160</td>\n",
       "    </tr>\n",
       "    <tr>\n",
       "      <th>5</th>\n",
       "      <td>October</td>\n",
       "      <td>Japan</td>\n",
       "      <td>Apparel</td>\n",
       "      <td>Performance</td>\n",
       "      <td>Dri-FIT</td>\n",
       "      <td>Premium</td>\n",
       "      <td>39344</td>\n",
       "      <td>5508160</td>\n",
       "      <td>73</td>\n",
       "      <td>140</td>\n",
       "    </tr>\n",
       "    <tr>\n",
       "      <th>6</th>\n",
       "      <td>December</td>\n",
       "      <td>Japan</td>\n",
       "      <td>Footwear</td>\n",
       "      <td>Cricket</td>\n",
       "      <td>Vapor Cricket</td>\n",
       "      <td>Budget</td>\n",
       "      <td>30197</td>\n",
       "      <td>6945310</td>\n",
       "      <td>50</td>\n",
       "      <td>230</td>\n",
       "    </tr>\n",
       "    <tr>\n",
       "      <th>7</th>\n",
       "      <td>July</td>\n",
       "      <td>Greater China</td>\n",
       "      <td>Apparel</td>\n",
       "      <td>Tops</td>\n",
       "      <td>Therma-FIT</td>\n",
       "      <td>Mid-Range</td>\n",
       "      <td>42814</td>\n",
       "      <td>6422100</td>\n",
       "      <td>55</td>\n",
       "      <td>150</td>\n",
       "    </tr>\n",
       "    <tr>\n",
       "      <th>8</th>\n",
       "      <td>April</td>\n",
       "      <td>Greater China</td>\n",
       "      <td>Footwear</td>\n",
       "      <td>Cricket</td>\n",
       "      <td>Vapor Cricket</td>\n",
       "      <td>Mid-Range</td>\n",
       "      <td>16489</td>\n",
       "      <td>2473350</td>\n",
       "      <td>78</td>\n",
       "      <td>150</td>\n",
       "    </tr>\n",
       "    <tr>\n",
       "      <th>9</th>\n",
       "      <td>February</td>\n",
       "      <td>Europe</td>\n",
       "      <td>Footwear</td>\n",
       "      <td>Cricket</td>\n",
       "      <td>Vapor Cricket</td>\n",
       "      <td>Mid-Range</td>\n",
       "      <td>43626</td>\n",
       "      <td>10033980</td>\n",
       "      <td>86</td>\n",
       "      <td>230</td>\n",
       "    </tr>\n",
       "  </tbody>\n",
       "</table>\n",
       "</div>"
      ],
      "text/plain": [
       "      Month         Region Main_Category Sub_Category       Product_Line  \\\n",
       "0  November          India     Equipment         Bags           Gym Sack   \n",
       "1   January          India     Equipment  Accessories               Hats   \n",
       "2   October          India       Apparel         Tops        Tech Fleece   \n",
       "3  December  Greater China      Footwear      Cricket      Vapor Cricket   \n",
       "4       May  Greater China     Equipment        Socks  Performance Socks   \n",
       "5   October          Japan       Apparel  Performance            Dri-FIT   \n",
       "6  December          Japan      Footwear      Cricket      Vapor Cricket   \n",
       "7      July  Greater China       Apparel         Tops         Therma-FIT   \n",
       "8     April  Greater China      Footwear      Cricket      Vapor Cricket   \n",
       "9  February         Europe      Footwear      Cricket      Vapor Cricket   \n",
       "\n",
       "  Price_Tier  Units_Sold  Revenue_USD  Online_Sales_Percentage  Retail_Price  \n",
       "0     Budget       48356     14506800                       73           300  \n",
       "1     Budget        9842      2066820                       50           210  \n",
       "2  Mid-Range       25079      1755530                       90            70  \n",
       "3    Premium       41404      8694840                       58           210  \n",
       "4    Premium       33569      5371040                       53           160  \n",
       "5    Premium       39344      5508160                       73           140  \n",
       "6     Budget       30197      6945310                       50           230  \n",
       "7  Mid-Range       42814      6422100                       55           150  \n",
       "8  Mid-Range       16489      2473350                       78           150  \n",
       "9  Mid-Range       43626     10033980                       86           230  "
      ]
     },
     "execution_count": 59,
     "metadata": {},
     "output_type": "execute_result"
    }
   ],
   "source": [
    "## display the first 10 rows \n",
    "\n",
    "print(\"5. Display first 10th records\")\n",
    "sales.head(10)"
   ]
  },
  {
   "cell_type": "markdown",
   "id": "49e5c51f-9d16-4c53-8c21-a5c7e9354430",
   "metadata": {},
   "source": [
    "# **Exploratory Data Analysis (EDA)** "
   ]
  },
  {
   "cell_type": "markdown",
   "id": "a3296ac3-c469-4ee4-9896-ebb00421161e",
   "metadata": {},
   "source": [
    "We further analyze the dataset to extract key insights:\n",
    "\n",
    "1. Total Revenue Breakdown by Region\n",
    "2. Total Revenue Breakdown by Region & Main Category\n",
    "3. Revenue Contribution by Product Line (Bar Chart)\n",
    "4. Monthly Sales Trend (Histogram)\n",
    "5. Online vs Offline Sales by Product Line (Stacked Bar Chart)"
   ]
  },
  {
   "cell_type": "markdown",
   "id": "465058a5-46c8-4799-ae09-3fcfad1af00e",
   "metadata": {},
   "source": [
    "## **1. Total Revenue Breakdown by Region**  \n",
    "To understand which regions contribute the most revenue, we summarize total revenue per region.  \n",
    "### **Revenue Breakdown by Region:**  \n",
    "\n",
    "**Greater China:** \\$804,543,630  \n",
    "**Japan:** \\$788,236,410  \n",
    "**America:** \\$784,640,550  \n",
    "**India:** \\$743,029,330  \n",
    "**South Korea:** \\$699,019,260  \n",
    "**Europe:** \\$639,991,140  \n",
    "**Southeast Asia:** \\$580,116,090  \n",
    "\n",
    "### **Finding**:  \n",
    "**Greater China** generates the highest revenue, making it the most sales in 2024.  \n",
    "**Japan** and **America** follow closely, indicating strong market performance.  \n",
    "**Southeast Asia** has the lowest revenue among the regions, suggesting to review the sales strategies in this market.  "
   ]
  },
  {
   "cell_type": "code",
   "execution_count": 60,
   "id": "4c75d8cf-dba1-4995-9294-d79d444b6517",
   "metadata": {},
   "outputs": [
    {
     "name": "stdout",
     "output_type": "stream",
     "text": [
      "1. Total Revenue Breakdown by Region\n"
     ]
    },
    {
     "data": {
      "text/plain": [
       "Region\n",
       "Greater China     804543630\n",
       "Japan             788236410\n",
       "America           784640550\n",
       "India             743029330\n",
       "South Korea       699019260\n",
       "Europe            639991140\n",
       "Southeast Asia    580116090\n",
       "Name: Revenue_USD, dtype: int64"
      ]
     },
     "execution_count": 60,
     "metadata": {},
     "output_type": "execute_result"
    }
   ],
   "source": [
    "## Total Revenue Breakdown by Region (in list)\n",
    "\n",
    "print(\"1. Total Revenue Breakdown by Region\")\n",
    "\n",
    "sales.groupby([\"Region\"])[\"Revenue_USD\"].sum().sort_values(ascending=False)"
   ]
  },
  {
   "cell_type": "code",
   "execution_count": 61,
   "id": "cd462f3f-4c25-44e3-b6dc-9fa79ac5d756",
   "metadata": {},
   "outputs": [
    {
     "data": {
      "image/png": "[encoded data removed]",
      "text/plain": [
       "<Figure size 1000x600 with 1 Axes>"
      ]
     },
     "metadata": {},
     "output_type": "display_data"
    }
   ],
   "source": [
    "## Total Revenue Breakdown by Region (in bar chart)\n",
    "region_revenue = sales.groupby(\"Region\")[\"Revenue_USD\"].sum().sort_values(ascending=False)\n",
    "\n",
    "# Create a bar chart\n",
    "plt.figure(figsize=(10, 6))\n",
    "region_revenue.plot(kind='bar', color='green')\n",
    "\n",
    "# Customize chart labels and title\n",
    "plt.xlabel(\"Region\")\n",
    "plt.ylabel(\"Total Revenue (USD)\")\n",
    "plt.title(\"Total Revenue Breakdown by Region\")\n",
    "plt.grid()\n",
    "\n",
    "# Show the chart\n",
    "plt.show()"
   ]
  },
  {
   "cell_type": "markdown",
   "id": "2a0ac63d-3590-4546-8390-f952f20bfe88",
   "metadata": {},
   "source": [
    "## **2. Total Revenue Breakdown by Region & Main Category**  \n",
    "Breaking down revenue by **region and main category** (Footwear, Apparel, Equipment) to provide a deeper insights.\n",
    "\n",
    "### **Revenue Breakdown (in list format):**  \n",
    "\n",
    "- **America**  \n",
    "  - Apparel: \\$305,061,420  \n",
    "  - Equipment: \\$261,674,350  \n",
    "  - Footwear: \\$217,904,780\n",
    "\n",
    "- **Europe**  \n",
    "  - Apparel: \\$240,167,660  \n",
    "  - Equipment: \\$233,883,810  \n",
    "  - Footwear: \\$165,939,670  \n",
    "\n",
    "- **Greater China**  \n",
    "  - Apparel: \\$276,664,300  \n",
    "  - Equipment: \\$256,326,320  \n",
    "  - Footwear: \\$271,553,010\n",
    "\n",
    "- **India**  \n",
    "  - Apparel: \\$225,827,310  \n",
    "  - Equipment: \\$307,899,180  \n",
    "  - Footwear: \\$209,302,840\n",
    "\n",
    "- **Japan**  \n",
    "  - Apparel: \\$284,178,690  \n",
    "  - Equipment: \\$221,000,280  \n",
    "  - Footwear: \\$283,057,440  \n",
    "\n",
    "- **South Korea**  \n",
    "  - Apparel: \\$242,974,880 \n",
    "  - Equipment: \\$278,156,310  \n",
    "  - Footwear: \\$177,888,070  \n",
    "\n",
    "- **Southeast Asia**  \n",
    "  - Apparel: \\$154,201,860 \n",
    "  - Equipment: \\$218,385,140  \n",
    "  - Footwear: \\$207,529,090\n",
    "    \n",
    "### **Findings:**  \n",
    "- **Apparel** is the highest revenue-generating category in most regions.\n",
    "- **America** leads in **Apparel** sales (305M), making it a key market for Nike’s clothing category\n",
    "- **India** records the highest revenue in **Equipment** sales, indicating strong demand for sports gear\n",
    "- **Footwear** performs exceptionally well in **Japan** (\\$283K>) and **Greater China** (\\$271K>), whereas **Europe** reports the lowest sales at just $166K\n"
   ]
  },
  {
   "cell_type": "code",
   "execution_count": 62,
   "id": "34c1b351-3356-465e-a45c-c9488ef74920",
   "metadata": {},
   "outputs": [
    {
     "name": "stdout",
     "output_type": "stream",
     "text": [
      "2.Total Revenue Breakdown by Region & main_category\n"
     ]
    },
    {
     "data": {
      "text/html": [
       "<div>\n",
       "<style scoped>\n",
       "    .dataframe tbody tr th:only-of-type {\n",
       "        vertical-align: middle;\n",
       "    }\n",
       "\n",
       "    .dataframe tbody tr th {\n",
       "        vertical-align: top;\n",
       "    }\n",
       "\n",
       "    .dataframe thead th {\n",
       "        text-align: right;\n",
       "    }\n",
       "</style>\n",
       "<table border=\"1\" class=\"dataframe\">\n",
       "  <thead>\n",
       "    <tr style=\"text-align: right;\">\n",
       "      <th></th>\n",
       "      <th></th>\n",
       "      <th>Revenue_USD</th>\n",
       "    </tr>\n",
       "    <tr>\n",
       "      <th>Region</th>\n",
       "      <th>Main_Category</th>\n",
       "      <th></th>\n",
       "    </tr>\n",
       "  </thead>\n",
       "  <tbody>\n",
       "    <tr>\n",
       "      <th rowspan=\"3\" valign=\"top\">America</th>\n",
       "      <th>Apparel</th>\n",
       "      <td>305061420</td>\n",
       "    </tr>\n",
       "    <tr>\n",
       "      <th>Equipment</th>\n",
       "      <td>261674350</td>\n",
       "    </tr>\n",
       "    <tr>\n",
       "      <th>Footwear</th>\n",
       "      <td>217904780</td>\n",
       "    </tr>\n",
       "    <tr>\n",
       "      <th rowspan=\"3\" valign=\"top\">Europe</th>\n",
       "      <th>Apparel</th>\n",
       "      <td>240167660</td>\n",
       "    </tr>\n",
       "    <tr>\n",
       "      <th>Equipment</th>\n",
       "      <td>233883810</td>\n",
       "    </tr>\n",
       "    <tr>\n",
       "      <th>Footwear</th>\n",
       "      <td>165939670</td>\n",
       "    </tr>\n",
       "    <tr>\n",
       "      <th rowspan=\"3\" valign=\"top\">Greater China</th>\n",
       "      <th>Apparel</th>\n",
       "      <td>276664300</td>\n",
       "    </tr>\n",
       "    <tr>\n",
       "      <th>Equipment</th>\n",
       "      <td>256326320</td>\n",
       "    </tr>\n",
       "    <tr>\n",
       "      <th>Footwear</th>\n",
       "      <td>271553010</td>\n",
       "    </tr>\n",
       "    <tr>\n",
       "      <th rowspan=\"3\" valign=\"top\">India</th>\n",
       "      <th>Apparel</th>\n",
       "      <td>225827310</td>\n",
       "    </tr>\n",
       "    <tr>\n",
       "      <th>Equipment</th>\n",
       "      <td>307899180</td>\n",
       "    </tr>\n",
       "    <tr>\n",
       "      <th>Footwear</th>\n",
       "      <td>209302840</td>\n",
       "    </tr>\n",
       "    <tr>\n",
       "      <th rowspan=\"3\" valign=\"top\">Japan</th>\n",
       "      <th>Apparel</th>\n",
       "      <td>284178690</td>\n",
       "    </tr>\n",
       "    <tr>\n",
       "      <th>Equipment</th>\n",
       "      <td>221000280</td>\n",
       "    </tr>\n",
       "    <tr>\n",
       "      <th>Footwear</th>\n",
       "      <td>283057440</td>\n",
       "    </tr>\n",
       "    <tr>\n",
       "      <th rowspan=\"3\" valign=\"top\">South Korea</th>\n",
       "      <th>Apparel</th>\n",
       "      <td>242974880</td>\n",
       "    </tr>\n",
       "    <tr>\n",
       "      <th>Equipment</th>\n",
       "      <td>278156310</td>\n",
       "    </tr>\n",
       "    <tr>\n",
       "      <th>Footwear</th>\n",
       "      <td>177888070</td>\n",
       "    </tr>\n",
       "    <tr>\n",
       "      <th rowspan=\"3\" valign=\"top\">Southeast Asia</th>\n",
       "      <th>Apparel</th>\n",
       "      <td>154201860</td>\n",
       "    </tr>\n",
       "    <tr>\n",
       "      <th>Equipment</th>\n",
       "      <td>218385140</td>\n",
       "    </tr>\n",
       "    <tr>\n",
       "      <th>Footwear</th>\n",
       "      <td>207529090</td>\n",
       "    </tr>\n",
       "  </tbody>\n",
       "</table>\n",
       "</div>"
      ],
      "text/plain": [
       "                              Revenue_USD\n",
       "Region         Main_Category             \n",
       "America        Apparel          305061420\n",
       "               Equipment        261674350\n",
       "               Footwear         217904780\n",
       "Europe         Apparel          240167660\n",
       "               Equipment        233883810\n",
       "               Footwear         165939670\n",
       "Greater China  Apparel          276664300\n",
       "               Equipment        256326320\n",
       "               Footwear         271553010\n",
       "India          Apparel          225827310\n",
       "               Equipment        307899180\n",
       "               Footwear         209302840\n",
       "Japan          Apparel          284178690\n",
       "               Equipment        221000280\n",
       "               Footwear         283057440\n",
       "South Korea    Apparel          242974880\n",
       "               Equipment        278156310\n",
       "               Footwear         177888070\n",
       "Southeast Asia Apparel          154201860\n",
       "               Equipment        218385140\n",
       "               Footwear         207529090"
      ]
     },
     "execution_count": 62,
     "metadata": {},
     "output_type": "execute_result"
    }
   ],
   "source": [
    "## Total Revenue Breakdown by Region & main_category (in list)\n",
    "\n",
    "print(\"2.Total Revenue Breakdown by Region & main_category\")\n",
    "\n",
    "pivot_Region_mainCategory = pd.pivot_table(sales, index=[\"Region\", \"Main_Category\"], values= [\"Revenue_USD\"], aggfunc='sum')\n",
    "\n",
    "## display table\n",
    "pivot_Region_mainCategory"
   ]
  },
  {
   "cell_type": "markdown",
   "id": "b631d10f-053e-495e-aeb3-0fe5c8332b9c",
   "metadata": {},
   "source": [
    "## **3. Revenue Contribution by Product Line (Bar Chart)**  \n",
    "We analyze revenue contributions by product line to identify top-performing categories.\n",
    "\n",
    "### **Bar Chart Representation:**  \n",
    "*(Bar chart visualization goes here in the notebook.)*  "
   ]
  },
  {
   "cell_type": "code",
   "execution_count": 63,
   "id": "2edd601f-ca4e-4413-ac3d-e57b5a3166fe",
   "metadata": {
    "scrolled": true
   },
   "outputs": [
    {
     "name": "stdout",
     "output_type": "stream",
     "text": [
      "3. Revenue Contribution by product line (bar chart)\n"
     ]
    },
    {
     "data": {
      "image/png": "[encoded data removed]",
      "text/plain": [
       "<Figure size 1000x600 with 1 Axes>"
      ]
     },
     "metadata": {},
     "output_type": "display_data"
    }
   ],
   "source": [
    "##Revenue Contribution by Product Line (Bar Chart using plt.bar)\n",
    "\n",
    "print(\"3. Revenue Contribution by product line (bar chart)\")\n",
    "\n",
    "product_line_revenue = sales.groupby(\"Product_Line\")[\"Revenue_USD\"].sum().reset_index().sort_values(by=\"Revenue_USD\", ascending=True)\n",
    "\n",
    "plt.figure(figsize=(10,6))\n",
    "plt.barh(product_line_revenue[\"Product_Line\"], product_line_revenue[\"Revenue_USD\"],)\n",
    "plt.xlabel(\"Total Revenue (USD)\")\n",
    "plt.ylabel(\"Product Line\")\n",
    "plt.title(\"Revenue Contribution by Product Line in 2024\")\n",
    "plt.show()\n"
   ]
  },
  {
   "cell_type": "markdown",
   "id": "5246e545-03ba-48e8-92c0-2f600c582ac2",
   "metadata": {},
   "source": [
    "### **Findings:**  \n",
    "- **Vapor Cricket** and **Windrunner** are the top-performing product lines, generating the highest revenue, indicating strong customer demand.\n",
    "- **Rain Jacket, Gym Sack, and Bags** also contribute significantly to total revenue, demonstrating their popularity in the market.\n",
    "- Lower-performing product lines, e.g. **Pegasus, Air Max, Blazer** should be assessed to improve sales.\n"
   ]
  },
  {
   "cell_type": "markdown",
   "id": "80f67055-f3c5-4914-a56f-a39b1dec0d45",
   "metadata": {},
   "source": [
    "## **4. Monthly Sales Trend (Histogram)**  \n",
    "\n",
    "We analyze sales trends across months to see seasonal patterns.\n",
    "\n",
    "### **Histogram Representation:**  \n",
    "*(Histogram visualization goes here in the notebook.)*\n"
   ]
  },
  {
   "cell_type": "code",
   "execution_count": 64,
   "id": "d5cf1d78-70e8-46c6-a002-6f7e5845a826",
   "metadata": {},
   "outputs": [
    {
     "name": "stdout",
     "output_type": "stream",
     "text": [
      "4. Monthly Sales Trend (histogram)\n"
     ]
    },
    {
     "data": {
      "image/png": "[encoded data removed]",
      "text/plain": [
       "<Figure size 1200x400 with 1 Axes>"
      ]
     },
     "metadata": {},
     "output_type": "display_data"
    }
   ],
   "source": [
    "## Monthly Sales Trend (histogram)\n",
    "\n",
    "print(\"4. Monthly Sales Trend (histogram)\")\n",
    "\n",
    "## Rearrange \"month\" in the correct order\n",
    "months_order = [\"January\", \"February\", \"March\", \"April\", \"May\", \"June\", \"July\", \"August\", \"September\", \"October\", \"November\", \"December\"]\n",
    "sales[\"Month\"] = pd.Categorical(sales[\"Month\"], categories=months_order, ordered=True)\n",
    "\n",
    "plt.figure(figsize=(12,4))\n",
    "sns.histplot(data=sales, x=\"Month\", weights=\"Revenue_USD\")\n",
    "plt.xlabel(\"Month\")\n",
    "plt.ylabel(\"Total Revenue (USD)\")\n",
    "plt.title(\"Monthly Sales Trend (Histogram) in 2024\")\n",
    "plt.grid()\n",
    "plt.show()\n"
   ]
  },
  {
   "cell_type": "markdown",
   "id": "ce58fc9f-d446-4b28-9802-5c0a3b088eeb",
   "metadata": {},
   "source": [
    "### **Findings:**  \n",
    "- **December** has the highest sales volume, likely due to seasonal shopping and promotions.  \n",
    "- Sales drop in **March, April, and August**, indicating a seasonal lull that requires marketing interventions.\n",
    "- Summer months **June to August** tend to have moderate sales, suggesting an opportunity for mid-year sales events or back-to-school campaigns to bosst sales "
   ]
  },
  {
   "cell_type": "markdown",
   "id": "8a3b8c35-0ebc-4fc9-bdc5-f734dab17163",
   "metadata": {},
   "source": [
    "## **5. Online vs Offline Sales by Product line (Stacked Bar Chart)**\n",
    "\n",
    "**Stacked Bar Chart Representation:** \n",
    "\n",
    "*(Stacked bar chart visualization goes here in the notebook.)*"
   ]
  },
  {
   "cell_type": "code",
   "execution_count": 65,
   "id": "b594d546-01a9-4da8-b1ec-38024b1e5ccf",
   "metadata": {},
   "outputs": [
    {
     "name": "stdout",
     "output_type": "stream",
     "text": [
      "5. online vs offline Sales by Product Line (Stacked Bar Chart)\n"
     ]
    },
    {
     "data": {
      "text/plain": [
       "<Figure size 1200x600 with 0 Axes>"
      ]
     },
     "metadata": {},
     "output_type": "display_data"
    },
    {
     "data": {
      "image/png": "[encoded data removed]",
      "text/plain": [
       "<Figure size 640x480 with 1 Axes>"
      ]
     },
     "metadata": {},
     "output_type": "display_data"
    }
   ],
   "source": [
    "## online vs offline Sales by Product line (Stacked Bar Chart)\n",
    "\n",
    "print (\"5. online vs offline Sales by Product Line (Stacked Bar Chart)\")\n",
    "\n",
    "## Add a new column to store Offline Sales Percentage\n",
    "sales[\"Offline_Sales_Percentage\"] = 100 - sales[\"Online_Sales_Percentage\"]\n",
    "\n",
    "# Average percentage of online and offline sales per region\n",
    "online_offline_sales = sales.groupby(\"Product_Line\")[[\"Online_Sales_Percentage\", \"Offline_Sales_Percentage\"]].mean() \n",
    "\n",
    "plt.figure(figsize=(12,6))\n",
    "online_offline_sales.plot(kind=\"bar\", stacked=True)\n",
    "plt.xlabel(\"Product Line\")\n",
    "plt.ylabel(\"Percentage\")\n",
    "plt.title(\"Online vs Offline Sales by Product Line in 2024\")\n",
    "plt.legend([\"Online Sales %\", \"Offline Sales %\"])\n",
    "plt.show()\n"
   ]
  },
  {
   "cell_type": "markdown",
   "id": "826e98ad-6552-4821-bbb2-9d5967e83ef8",
   "metadata": {},
   "source": [
    "### **Findings:**  \n",
    "\n",
    "- **Air Zoom** has the highest offline sales percentage (33.88%), suggesting that customers prefer in-store purchases for this product, possibly due to the need for in-person trials before buying\n",
    "- **Bags, Pegasus**, and **KD Series** have the highest online sales percentages, with more than 72% of purchases occurring online, indicating strong digital demand.\n",
    "- Products like **Backpacks and Air Max** maintain a balanced online and offline distribution, reflecting steady sales across both channels\n",
    "- Footwear models tend to perform better online, while accessories such as Backpacks see a higher proportion of offline sales, likely due to impulse buying behavior in retail stores"
   ]
  }
 ],
 "metadata": {
  "kernelspec": {
   "display_name": "Python 3 (ipykernel)",
   "language": "python",
   "name": "python3"
  },
  "language_info": {
   "codemirror_mode": {
    "name": "ipython",
    "version": 3
   },
   "file_extension": ".py",
   "mimetype": "text/x-python",
   "name": "python",
   "nbconvert_exporter": "python",
   "pygments_lexer": "ipython3",
   "version": "3.12.7"
  }
 },
 "nbformat": 4,
 "nbformat_minor": 5
}
